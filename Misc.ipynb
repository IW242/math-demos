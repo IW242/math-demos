{
 "cells": [
  {
   "cell_type": "markdown",
   "metadata": {
    "collapsed": true
   },
   "source": [
    "# IW242 Interactive Python notebook\n",
    "## Tutorial 1"
   ]
  },
  {
   "cell_type": "markdown",
   "metadata": {},
   "source": [
    "There were a few problems from tutorial 1 that shout out for some coding.\n"
   ]
  },
  {
   "cell_type": "markdown",
   "metadata": {},
   "source": [
    "Let's get started. Firstly, we must load up numpy and matplotlib."
   ]
  },
  {
   "cell_type": "code",
   "execution_count": 1,
   "metadata": {
    "collapsed": false
   },
   "outputs": [
    {
     "name": "stdout",
     "output_type": "stream",
     "text": [
      "Populating the interactive namespace from numpy and matplotlib\n"
     ]
    }
   ],
   "source": [
    "%pylab inline"
   ]
  },
  {
   "cell_type": "markdown",
   "metadata": {},
   "source": [
    "### 11.1 Number 60\n",
    "\n",
    "We are asked to graph the sequence $a_n = \\sqrt[n]{3^n + 5^n}$."
   ]
  },
  {
   "cell_type": "code",
   "execution_count": 2,
   "metadata": {
    "collapsed": true
   },
   "outputs": [],
   "source": [
    "def a(n):\n",
    "    return (3**n + 5**n)**(1/n)"
   ]
  },
  {
   "cell_type": "markdown",
   "metadata": {},
   "source": [
    "Ok, let's see how that works. Let's evaluate a few terms."
   ]
  },
  {
   "cell_type": "code",
   "execution_count": 3,
   "metadata": {
    "collapsed": false
   },
   "outputs": [
    {
     "name": "stdout",
     "output_type": "stream",
     "text": [
      "a_1 =  8.0 , a_2 =  5.830951894845301 , a_3 =  5.336803297443889\n"
     ]
    }
   ],
   "source": [
    "print(\"a_1 = \" , a(1), \",\", \"a_2 = \", a(2), \",\", \"a_3 = \", a(3))"
   ]
  },
  {
   "cell_type": "markdown",
   "metadata": {},
   "source": [
    "Let's write it down in a pretty table. (Does anyone know how to output this even prettier?)"
   ]
  },
  {
   "cell_type": "code",
   "execution_count": 4,
   "metadata": {
    "collapsed": false
   },
   "outputs": [
    {
     "name": "stdout",
     "output_type": "stream",
     "text": [
      "| \t a_1 \t | \t 8.0000000 \t |\n",
      "| \t a_2 \t | \t 5.8309519 \t |\n",
      "| \t a_3 \t | \t 5.3368033 \t |\n",
      "| \t a_4 \t | \t 5.1546737 \t |\n",
      "| \t a_5 \t | \t 5.0754484 \t |\n",
      "| \t a_6 \t | \t 5.0381450 \t |\n",
      "| \t a_7 \t | \t 5.0197596 \t |\n",
      "| \t a_8 \t | \t 5.0104213 \t |\n",
      "| \t a_9 \t | \t 5.0055738 \t |\n",
      "| \t a_10 \t | \t 5.0030151 \t |\n"
     ]
    }
   ],
   "source": [
    "for n in range(1,11):\n",
    "    print(\"| \\t a_%d \\t | \\t %s \\t |\" % (n, format(a(n), \".7f\")))"
   ]
  },
  {
   "cell_type": "markdown",
   "metadata": {},
   "source": [
    "Now let's plot that as a graph."
   ]
  },
  {
   "cell_type": "code",
   "execution_count": 5,
   "metadata": {
    "collapsed": false
   },
   "outputs": [
    {
     "data": {
      "text/plain": [
       "<matplotlib.text.Text at 0x10d9e27b8>"
      ]
     },
     "execution_count": 5,
     "metadata": {},
     "output_type": "execute_result"
    },
    {
     "data": {
      "image/png": "[encoded data removed]",
      "text/plain": [
       "<matplotlib.figure.Figure at 0x10b5b3470>"
      ]
     },
     "metadata": {},
     "output_type": "display_data"
    }
   ],
   "source": [
    "N = 20 # The number of terms we'll plot in the sequence\n",
    "plt.xkcd() # I love this XKCD style!\n",
    "n = np.linspace(1, N, N) # The array of N numbers 1, ..., N.\n",
    "ax = pylab.axes()\n",
    "ax.plot(n, a(n), 'o')\n",
    "ax.set_title('a_n = n/n+1')\n",
    "ax.set_xlabel('n')\n",
    "ax.set_ylabel('a_n')"
   ]
  },
  {
   "cell_type": "markdown",
   "metadata": {},
   "source": [
    "So, looks to be converging to 5!\n",
    "\n",
    "Try to *prove* that it converges to 5. Hint: Take logarithms of both sides."
   ]
  },
  {
   "cell_type": "markdown",
   "metadata": {},
   "source": [
    "### 11.1 Number 83\n",
    "\n",
    "Let's try to code in the Fibonacci sequence $a_1 = 1, a_2 = 1, a_{n+2} = a_{n+1} + a_n$."
   ]
  },
  {
   "cell_type": "code",
   "execution_count": 6,
   "metadata": {
    "collapsed": false
   },
   "outputs": [],
   "source": [
    "def f(n):\n",
    "    if n==1:\n",
    "        return 1\n",
    "    elif n==2:\n",
    "        return 1\n",
    "    elif n>=3:\n",
    "        return f(n-1) + f(n-2)"
   ]
  },
  {
   "cell_type": "markdown",
   "metadata": {},
   "source": [
    "Let's see if that works."
   ]
  },
  {
   "cell_type": "code",
   "execution_count": 7,
   "metadata": {
    "collapsed": false
   },
   "outputs": [
    {
     "name": "stdout",
     "output_type": "stream",
     "text": [
      "1 , 1 , 2 , 3\n"
     ]
    }
   ],
   "source": [
    "print(f(1), \",\", f(2), \",\", f(3), \",\", f(4))"
   ]
  },
  {
   "cell_type": "markdown",
   "metadata": {},
   "source": [
    "Now we can define the ratio of successive terms $a_n = \\frac{f_{n+1}}{f_{n}}$."
   ]
  },
  {
   "cell_type": "code",
   "execution_count": 8,
   "metadata": {
    "collapsed": true
   },
   "outputs": [],
   "source": [
    "def a(n):\n",
    "    return f(n+1)/f(n)"
   ]
  },
  {
   "cell_type": "markdown",
   "metadata": {},
   "source": [
    "Let's plot that in a table."
   ]
  },
  {
   "cell_type": "code",
   "execution_count": 9,
   "metadata": {
    "collapsed": false
   },
   "outputs": [
    {
     "name": "stdout",
     "output_type": "stream",
     "text": [
      "| \t a_1 \t | \t 1.0000000 \t |\n",
      "| \t a_2 \t | \t 2.0000000 \t |\n",
      "| \t a_3 \t | \t 1.5000000 \t |\n",
      "| \t a_4 \t | \t 1.6666667 \t |\n",
      "| \t a_5 \t | \t 1.6000000 \t |\n",
      "| \t a_6 \t | \t 1.6250000 \t |\n",
      "| \t a_7 \t | \t 1.6153846 \t |\n",
      "| \t a_8 \t | \t 1.6190476 \t |\n",
      "| \t a_9 \t | \t 1.6176471 \t |\n",
      "| \t a_10 \t | \t 1.6181818 \t |\n"
     ]
    }
   ],
   "source": [
    "for n in range(1,11):\n",
    "    print(\"| \\t a_%d \\t | \\t %s \\t |\" % (n, format(a(n), \".7f\")))"
   ]
  },
  {
   "cell_type": "markdown",
   "metadata": {},
   "source": [
    "Seems to converge to about $1.618$ or so. Can you prove this?"
   ]
  },
  {
   "cell_type": "code",
   "execution_count": null,
   "metadata": {
    "collapsed": true
   },
   "outputs": [],
   "source": [
    "N = 20 # The number of terms we'll plot in the sequence\n",
    "\n",
    "plt.xkcd() # I love this XKCD style!\n",
    "n = np.linspace(1,10, 100) # The array of N numbers 1, ..., N.\n",
    "my_f_array = np.linspace(1, N, N) # Make an array\n",
    "for i in range(0, N-1):\n",
    "    my_f_array[i] = \n",
    "ax = pylab.axes()\n",
    "ax.plot(n, my_a_array, 'o')\n",
    "ax.set_title('a_n = n/n+1')\n",
    "ax.set_xlabel('n')\n",
    "ax.set_ylabel('a_n')"
   ]
  },
  {
   "cell_type": "code",
   "execution_count": 10,
   "metadata": {
    "collapsed": false
   },
   "outputs": [
    {
     "data": {
      "text/plain": [
       "<matplotlib.text.Text at 0x10ddbafd0>"
      ]
     },
     "execution_count": 10,
     "metadata": {},
     "output_type": "execute_result"
    },
    {
     "data": {
      "image/png": "[encoded data removed]",
      "text/plain": [
       "<matplotlib.figure.Figure at 0x10dd11dd8>"
      ]
     },
     "metadata": {},
     "output_type": "display_data"
    }
   ],
   "source": [
    "N = 20 # The number of terms we'll plot in the sequence\n",
    "plt.xkcd() # I love this XKCD style!\n",
    "n = np.linspace(1, N, N) # The array of N numbers 1, ..., N.\n",
    "my_a_array = np.linspace(1, N, N) # Make an array\n",
    "for i in range(0, N-1):\n",
    "    my_a_array[i] = a(i+1)\n",
    "ax = pylab.axes()\n",
    "ax.plot(n, my_a_array, 'o')\n",
    "ax.set_title('a_n = n/n+1')\n",
    "ax.set_xlabel('n')\n",
    "ax.set_ylabel('a_n')"
   ]
  },
  {
   "cell_type": "markdown",
   "metadata": {},
   "source": [
    "### 11.2 Number 65\n",
    "\n",
    "We're going to need a \"Computer Algebra System\" to do this. That's what SymPy is.\n"
   ]
  },
  {
   "cell_type": "code",
   "execution_count": 11,
   "metadata": {
    "collapsed": false
   },
   "outputs": [],
   "source": [
    "from sympy import *\n",
    "init_printing()"
   ]
  },
  {
   "cell_type": "code",
   "execution_count": 12,
   "metadata": {
    "collapsed": false
   },
   "outputs": [],
   "source": [
    "n = Symbol(\"n\")\n",
    "i = Symbol(\"i\")"
   ]
  },
  {
   "cell_type": "markdown",
   "metadata": {},
   "source": [
    "First we enter the formula for the $nth$ term."
   ]
  },
  {
   "cell_type": "code",
   "execution_count": 81,
   "metadata": {
    "collapsed": true
   },
   "outputs": [],
   "source": [
    "formula = (3*n**2 + 3*n + 1)/((n**2 + n)**3)"
   ]
  },
  {
   "cell_type": "markdown",
   "metadata": {},
   "source": [
    "Here's how we do a partial fraction decomposition:"
   ]
  },
  {
   "cell_type": "code",
   "execution_count": 83,
   "metadata": {
    "collapsed": false
   },
   "outputs": [
    {
     "data": {
      "image/png": "[encoded data removed]",
      "text/latex": [
       "$$- \\frac{1}{\\left(n + 1\\right)^{3}} + \\frac{1}{n^{3}}$$"
      ],
      "text/plain": [
       "     1       1 \n",
       "- ──────── + ──\n",
       "         3    3\n",
       "  (n + 1)    n "
      ]
     },
     "execution_count": 83,
     "metadata": {},
     "output_type": "execute_result"
    }
   ],
   "source": [
    "apart(formula)"
   ]
  },
  {
   "cell_type": "markdown",
   "metadata": {},
   "source": [
    "Good! So we have \n",
    "\n",
    "$s_n = 1 - \\frac{1}{(n+1)^3}$. \n",
    "\n",
    "Hence the sum evaluates as 1."
   ]
  },
  {
   "cell_type": "markdown",
   "metadata": {},
   "source": [
    "Let's check that by getting SymPy to compute the sum of the series directly."
   ]
  },
  {
   "cell_type": "code",
   "execution_count": 87,
   "metadata": {
    "collapsed": false
   },
   "outputs": [],
   "source": [
    "S = Sum( formula, (n, 1, oo))"
   ]
  },
  {
   "cell_type": "code",
   "execution_count": 88,
   "metadata": {
    "collapsed": false
   },
   "outputs": [
    {
     "data": {
      "image/png": "[encoded data removed]",
      "text/latex": [
       "$$\\sum_{n=1}^{\\infty} \\frac{1}{\\left(n^{2} + n\\right)^{3}} \\left(3 n^{2} + 3 n + 1\\right)$$"
      ],
      "text/plain": [
       "  ∞                 \n",
       "_____               \n",
       "╲                   \n",
       " ╲       2          \n",
       "  ╲   3⋅n  + 3⋅n + 1\n",
       "   ╲  ──────────────\n",
       "   ╱            3   \n",
       "  ╱     ⎛ 2    ⎞    \n",
       " ╱      ⎝n  + n⎠    \n",
       "╱                   \n",
       "‾‾‾‾‾               \n",
       "n = 1               "
      ]
     },
     "execution_count": 88,
     "metadata": {},
     "output_type": "execute_result"
    }
   ],
   "source": [
    "S"
   ]
  },
  {
   "cell_type": "markdown",
   "metadata": {},
   "source": [
    "To evaluate this sum, we just do it!"
   ]
  },
  {
   "cell_type": "code",
   "execution_count": 89,
   "metadata": {
    "collapsed": false
   },
   "outputs": [
    {
     "data": {
      "image/png": "[encoded data removed]",
      "text/latex": [
       "$$1$$"
      ],
      "text/plain": [
       "1"
      ]
     },
     "execution_count": 89,
     "metadata": {},
     "output_type": "execute_result"
    }
   ],
   "source": [
    "S.doit()"
   ]
  },
  {
   "cell_type": "markdown",
   "metadata": {},
   "source": [
    "Hooray!"
   ]
  },
  {
   "cell_type": "code",
   "execution_count": null,
   "metadata": {
    "collapsed": true
   },
   "outputs": [],
   "source": []
  }
 ],
 "metadata": {
  "kernelspec": {
   "display_name": "Python 3",
   "language": "python",
   "name": "python3"
  },
  "language_info": {
   "codemirror_mode": {
    "name": "ipython",
    "version": 3
   },
   "file_extension": ".py",
   "mimetype": "text/x-python",
   "name": "python",
   "nbconvert_exporter": "python",
   "pygments_lexer": "ipython3",
   "version": "3.5.1"
  }
 },
 "nbformat": 4,
 "nbformat_minor": 0
}
